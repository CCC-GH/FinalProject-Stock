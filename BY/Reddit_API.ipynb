{
 "cells": [
  {
   "cell_type": "code",
   "execution_count": 1,
   "metadata": {},
   "outputs": [],
   "source": [
    "import pandas as pd\n",
    "import numpy as np\n",
    "import requests\n",
    "import json\n",
    "from datetime import datetime\n",
    "today = datetime.today()"
   ]
  },
  {
   "cell_type": "code",
   "execution_count": 2,
   "metadata": {},
   "outputs": [],
   "source": [
    "script = \"9ho5HG7o00PT-g\"\n",
    "secret = \"2CQTFbYyYp5aLEN7bHkKGO8X4E3YHQ\""
   ]
  },
  {
   "cell_type": "code",
   "execution_count": 3,
   "metadata": {},
   "outputs": [],
   "source": [
    "# user_choice = \"GME\"\n",
    "\n",
    "# def input_handling(user_choice):\n",
    "    \n",
    "def df_from_response(res):\n",
    "    df = pd.DataFrame()\n",
    "\n",
    "    for post in res.json()['data']['children']:\n",
    "        df = df.append({\n",
    "            'subreddit': post['data']['subreddit'],\n",
    "            'title': post['data']['title'],\n",
    "            'selftext': post['data']['selftext'],\n",
    "            'upvote_ratio': post['data']['upvote_ratio'],\n",
    "            'date': datetime.fromtimestamp(post['data']['created_utc']).strftime('%Y-%m-%d'),\n",
    "            'ups': post['data']['ups'],\n",
    "            'downs': post['data']['downs'],\n",
    "            'score': post['data']['score'],\n",
    "            'kind': post['kind'],\n",
    "            'id': post['data']['id'],\n",
    "        }, ignore_index=True)\n",
    "    return df"
   ]
  },
  {
   "cell_type": "code",
   "execution_count": 4,
   "metadata": {},
   "outputs": [],
   "source": [
    "auth = requests.auth.HTTPBasicAuth(script, secret)\n",
    "data = {'grant_type': 'password',\n",
    "        'username': 'NoShare8264',\n",
    "        'password': 'NewPass227$'}\n",
    "\n",
    "headers = {'User-Agent': 'Final_Project/0.0.1'}\n",
    "\n",
    "request = requests.post('https://www.reddit.com/api/v1/access_token',\n",
    "                    auth=auth, data=data, headers=headers)\n",
    "token = f\"bearer {request.json()['access_token']}\"\n",
    "headers = {**headers, **{'Authorization': token}}"
   ]
  },
  {
   "cell_type": "code",
   "execution_count": 5,
   "metadata": {},
   "outputs": [],
   "source": [
    "data = pd.DataFrame()\n",
    "params = {'limit': 100,\n",
    "         'q': 'GME'}\n",
    "end_date = '2021-02-01'\n",
    "row_date = today.strftime('%Y-%m-%d')\n",
    "\n",
    "# while row_date > end_date:\n",
    "for i in range(3):\n",
    "    res = requests.get(\"https://oauth.reddit.com/r/WallStreetBets/search\",\n",
    "                       headers=headers,\n",
    "                       params=params)\n",
    "    \n",
    "    new_df = df_from_response(res)\n",
    "    new_df.sort_values(by=['date'], inplace=True, ascending=False)\n",
    "    row = new_df.iloc[len(new_df)-1]\n",
    "    fullname = row['kind'] + '_' + row['id']\n",
    "    params['after'] = fullname\n",
    "#     row_date = row['date']\n",
    "    data = data.append(new_df, ignore_index=True)"
   ]
  },
  {
   "cell_type": "code",
   "execution_count": 6,
   "metadata": {},
   "outputs": [],
   "source": [
    "data.to_csv(\"GME_reddit.csv\")"
   ]
  },
  {
   "cell_type": "code",
   "execution_count": 8,
   "metadata": {},
   "outputs": [],
   "source": [
    "data = pd.DataFrame()\n",
    "params = {'limit': 100,\n",
    "         'q': 'AMC'}\n",
    "end_date = '2021-02-01'\n",
    "row_date = today.strftime('%Y-%m-%d')\n",
    "\n",
    "# while row_date > end_date:\n",
    "# while len(new_df) > 0:\n",
    "for i in range(4):\n",
    "    res = requests.get(\"https://oauth.reddit.com/r/WallStreetBets/search\",\n",
    "                       headers=headers,\n",
    "                       params=params)\n",
    "    \n",
    "    new_df = df_from_response(res)\n",
    "    new_df.sort_values(by=['date'], inplace=True, ascending=False)\n",
    "    row = new_df.iloc[len(new_df)-1]\n",
    "    fullname = row['kind'] + '_' + row['id']\n",
    "    params['after'] = fullname\n",
    "#     row_date = row['date']\n",
    "    data = data.append(new_df, ignore_index=True)\n"
   ]
  },
  {
   "cell_type": "code",
   "execution_count": 9,
   "metadata": {},
   "outputs": [],
   "source": [
    "data.to_csv(\"AMC_reddit.csv\")"
   ]
  },
  {
   "cell_type": "code",
   "execution_count": null,
   "metadata": {},
   "outputs": [],
   "source": []
  }
 ],
 "metadata": {
  "kernelspec": {
   "display_name": "Python 3",
   "language": "python",
   "name": "python3"
  },
  "language_info": {
   "codemirror_mode": {
    "name": "ipython",
    "version": 3
   },
   "file_extension": ".py",
   "mimetype": "text/x-python",
   "name": "python",
   "nbconvert_exporter": "python",
   "pygments_lexer": "ipython3",
   "version": "3.8.3"
  }
 },
 "nbformat": 4,
 "nbformat_minor": 4
}
